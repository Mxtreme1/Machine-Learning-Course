{
 "cells": [
  {
   "cell_type": "markdown",
   "metadata": {},
   "source": [
    "## Least-Square Linear Regression\n",
    "\n",
    "You have heard about (linear) classification methods and least-squares linear regression in the lecture. \n",
    "\n",
    "__Task:__ Describe the difference between regression and classification in one sentence.\n",
    "\n",
    "Regression searches for a value (e.g. an integer or a real number), while a classifications searches for the fitting group of a datum.\n",
    "\n",
    "\n",
    "In the next part, we want to implement a least-squares linear regression. This means that given a set of points $\\{\\mathbf{x_i},y_i\\}$, $i = 1..N$, we want to find that line (or hyperplane in higher dimensions) which minimizes the least-square error. The least-squares error measures the quadratic distance from the predicted points by the linear model to the actual values.\n",
    "\n",
    "The general formula of the least-squares regression is $\\mathbf{y} = \\mathbf X \\boldsymbol w+ \\mathbf{\\epsilon}$ where $\\epsilon$ is a vector with dimensionality $\\mathbb{R}^N$ containing the normally-distributed noise terms $N(0,\\sigma^2)$, $\\mathbf{y}$ is the vector of labels and $\\mathbf{X}$ is the matrix of data points with dimensionality $\\mathbb{R}^{NxD}$. We are interested in estimating the coefficients $\\hat{\\boldsymbol w}$ of the true coefficients $\\boldsymbol w$. You saw in the lecture that the estimates are given by:\n",
    "\n",
    "\\begin{equation}\n",
    "\\hat{\\boldsymbol w} = (\\mathbf{X}^{\\rm T}\\mathbf{X})^{-1} \\mathbf{X}^{\\rm T}\\mathbf{y}\n",
    "\\end{equation}\n",
    "\n",
    "where $\\mathbf{X}$ is the matrix of regressor data (the first column is all 1’s for the intercept), and $\\mathbf{y}$ is the vector of the dependent variable data. \n",
    "\n",
    "__Tasks:__ \n",
    "1.  Look at how the following data is generated. What are the real parameters of w?\n",
    "2.  We want to implement a least-square linear regression now. Follow the following steps:\n",
    "    1. ) Bring the data in the correct shape as requested by the formula above.    \n",
    "    2. ) Calculate the estimates of the coefficients w.\n",
    "    3. ) Add the resulting line to the given scatter plot of the data.\n",
    "    4. ) Compute the mean squared-error of the residuals, i.e. $ \\frac{1}{N}\\sum_{i=1}^N \\|y(x_i) - y_i \\|^2$.\n",
    "    5. ) Compare your results to the numpy built-in function np.linalg.lstsq(...)\n",
    "3. Plot the residuals (e.g. using seaborn function residplot (you will need to install statsmodel with '_sudo pip3 install statsmodels_' ) and check the conditions of the linear regression."
   ]
  },
  {
   "cell_type": "code",
   "execution_count": 18,
   "metadata": {
    "scrolled": true
   },
   "outputs": [
    {
     "data": {
      "image/png": "[encoded data removed]",
      "text/plain": [
       "<Figure size 432x288 with 1 Axes>"
      ]
     },
     "metadata": {
      "needs_background": "light"
     },
     "output_type": "display_data"
    }
   ],
   "source": [
    "%matplotlib inline\n",
    "import numpy as np\n",
    "import matplotlib.pyplot as plt\n",
    "import seaborn as sns\n",
    "\n",
    "## Generate data\n",
    "N_samples = 100\n",
    "white_noise_stddev = 2\n",
    "X = np.random.randn(N_samples,1)\n",
    "eps = np.random.randn(N_samples,1)*white_noise_stddev\n",
    "w = [1.3]\n",
    "y = 0.5+w*X+eps\n",
    "\n",
    "## Make Plot of the data\n",
    "plt.scatter(X, y);\n",
    "plt.grid()"
   ]
  },
  {
   "cell_type": "code",
   "execution_count": 19,
   "metadata": {},
   "outputs": [
    {
     "name": "stdout",
     "output_type": "stream",
     "text": [
      "(100, 1)\n",
      "[[1.07492809]]\n"
     ]
    },
    {
     "data": {
      "image/png": "[encoded data removed]",
      "text/plain": [
       "<Figure size 432x288 with 1 Axes>"
      ]
     },
     "metadata": {
      "needs_background": "light"
     },
     "output_type": "display_data"
    },
    {
     "name": "stdout",
     "output_type": "stream",
     "text": [
      "9.479767788940082\n",
      "1.074928088101258\n"
     ]
    },
    {
     "name": "stderr",
     "output_type": "stream",
     "text": [
      "/usr/local/lib/python3.6/dist-packages/ipykernel_launcher.py:23: FutureWarning: `rcond` parameter will change to the default of machine precision times ``max(M, N)`` where M and N are the input matrix dimensions.\n",
      "To use the future default and silence this warning we advise to pass `rcond=None`, to keep using the old, explicitly pass `rcond=-1`.\n"
     ]
    },
    {
     "data": {
      "image/png": "[encoded data removed]",
      "text/plain": [
       "<Figure size 432x288 with 1 Axes>"
      ]
     },
     "metadata": {
      "needs_background": "light"
     },
     "output_type": "display_data"
    }
   ],
   "source": [
    "## 2. A) Bring the data in the correct shape\n",
    "print(X.shape)\n",
    "    \n",
    "## B) Use the equation from above (X'X)^(-1)X'Y to calculate the estimate of the least-square coefficient:\n",
    "# Hints:np.dot() computes the matrix-matrix product\n",
    "#       np.linalg.inv() computes the matrix inverse\n",
    "#       X.T is the transpose of X\n",
    "w_hat = (np.dot(np.dot(np.linalg.inv(np.dot(X.T, X)), X.T), y))\n",
    "print(w_hat)\n",
    "\n",
    "## C) Plot the resulting line\n",
    "plt.scatter(X, y);\n",
    "plt.grid()\n",
    "plt.plot(X, np.dot(X,w_hat))\n",
    "plt.show()\n",
    "\n",
    "## D) Compute the mean square-error (residual)\n",
    "mse = (np.sum(np.subtract(y, np.dot(X, w_hat))) ** 2) / N_samples\n",
    "print(mse)\n",
    "\n",
    "\n",
    "## E) Compare to built-in function\n",
    "np_mse = np.linalg.lstsq(X, y)\n",
    "print(np_mse[0][0][0])\n",
    "\n",
    "## 3) Plot the residuals\n",
    "sns.residplot(X, y, color='g')\n",
    "plt.show()"
   ]
  },
  {
   "cell_type": "markdown",
   "metadata": {},
   "source": [
    "## Mathematical concepts of linear regression\n",
    "\n",
    "We want to look more closely at the mathematical backgrounds of the least-square linear regression. One step before obtaining the final solution $\\hat{\\boldsymbol w} = (\\mathbf{X}^{\\rm T}\\mathbf{X})^{-1} \\mathbf{X}^{\\rm T}\\mathbf{y}$, one has the so-called normal equations: \\begin{equation}\n",
    "(\\mathbf{X}^{\\rm T}\\mathbf{X}) \\hat{\\boldsymbol w} = \\mathbf{X}^{\\rm T}\\mathbf{y}\n",
    "\\end{equation}\n",
    "\n",
    "### Q3.1.1 Which condition on X has to be satisfied such that $(\\mathbf{X}^{\\rm T}\\mathbf{X})$ can be inverted?\n",
    "$A \\cdot w = y$ needs to have a single solution.\n",
    "\n",
    "### Q3.1.2 Name scenarios in which this condition is violated.\n",
    "$A \\cdot w = y$ has either no or an infinitude of solutions.\n",
    "\n",
    "In case, $(\\mathbf{X}^{\\rm T}\\mathbf{X})$ is not invertible, one applies a so-called Moore-Penrose pseudoinverse. This is a generalization of the common matrix inversion to singular or non-quadratic matrices.\n",
    "\n",
    "__Task__: Read about the pseudoinverse and list three properties of the pseudoinverse.\n",
    "Where B^+ is the pseudoinverse matrix to B (source: http://mathworld.wolfram.com/Moore-PenroseMatrixInverse.html)\n",
    "\n",
    "$BB^+B\t=\tB \\\\\n",
    "B^+BB^+\t=\tB^+\t\\\\\n",
    "(BB^+)^{H}\t=\tBB^+$"
   ]
  },
  {
   "cell_type": "markdown",
   "metadata": {},
   "source": [
    "## The role of outliers in least-square linear regression \n",
    "\n",
    "Sometimes the data is not as clean as in the above case. In the following data set, we added one additional point [45,12] to the previous data set. We want to investigate how this point influences the estimates of $\\mathbf w$ and find a strategy to avoid any occurring problems.\n",
    "\n",
    "__Tasks:__\n",
    "1. Apply a least square linear estimator to the new data set and visualize the results\n",
    "2. Compare the estimator for w with the one from before.\n",
    "3. Plot the residuals, i.e. the difference between the predicted variable $y(x_i)$ and real variable $y_i$.\n",
    "4. In the lecture you have heard several conditions on the residual which should be satisfied for the linear regression. Check them in this case! \n",
    "\n",
    "__Hint__: You should re-run the simulation a few times to answer question number 4)."
   ]
  },
  {
   "cell_type": "code",
   "execution_count": 37,
   "metadata": {
    "scrolled": false
   },
   "outputs": [
    {
     "name": "stdout",
     "output_type": "stream",
     "text": [
      "(101,)\n"
     ]
    },
    {
     "ename": "LinAlgError",
     "evalue": "0-dimensional array given. Array must be at least two-dimensional",
     "output_type": "error",
     "traceback": [
      "\u001b[0;31m---------------------------------------------------------------------------\u001b[0m",
      "\u001b[0;31mLinAlgError\u001b[0m                               Traceback (most recent call last)",
      "\u001b[0;32m<ipython-input-37-99930773dcee>\u001b[0m in \u001b[0;36m<module>\u001b[0;34m\u001b[0m\n\u001b[1;32m     11\u001b[0m \u001b[0;31m# 1) Apply a least square linear estimator to the new data set\u001b[0m\u001b[0;34m\u001b[0m\u001b[0;34m\u001b[0m\u001b[0;34m\u001b[0m\u001b[0m\n\u001b[1;32m     12\u001b[0m \u001b[0mprint\u001b[0m\u001b[0;34m(\u001b[0m\u001b[0mX\u001b[0m\u001b[0;34m.\u001b[0m\u001b[0mshape\u001b[0m\u001b[0;34m)\u001b[0m\u001b[0;34m\u001b[0m\u001b[0;34m\u001b[0m\u001b[0m\n\u001b[0;32m---> 13\u001b[0;31m \u001b[0mw_hat\u001b[0m \u001b[0;34m=\u001b[0m \u001b[0;34m(\u001b[0m\u001b[0mnp\u001b[0m\u001b[0;34m.\u001b[0m\u001b[0mdot\u001b[0m\u001b[0;34m(\u001b[0m\u001b[0mnp\u001b[0m\u001b[0;34m.\u001b[0m\u001b[0mdot\u001b[0m\u001b[0;34m(\u001b[0m\u001b[0mnp\u001b[0m\u001b[0;34m.\u001b[0m\u001b[0mlinalg\u001b[0m\u001b[0;34m.\u001b[0m\u001b[0minv\u001b[0m\u001b[0;34m(\u001b[0m\u001b[0mnp\u001b[0m\u001b[0;34m.\u001b[0m\u001b[0mdot\u001b[0m\u001b[0;34m(\u001b[0m\u001b[0mX\u001b[0m\u001b[0;34m.\u001b[0m\u001b[0mT\u001b[0m\u001b[0;34m,\u001b[0m \u001b[0mX\u001b[0m\u001b[0;34m)\u001b[0m\u001b[0;34m)\u001b[0m\u001b[0;34m,\u001b[0m \u001b[0mX\u001b[0m\u001b[0;34m.\u001b[0m\u001b[0mT\u001b[0m\u001b[0;34m)\u001b[0m\u001b[0;34m,\u001b[0m \u001b[0my\u001b[0m\u001b[0;34m)\u001b[0m\u001b[0;34m)\u001b[0m\u001b[0;34m\u001b[0m\u001b[0;34m\u001b[0m\u001b[0m\n\u001b[0m\u001b[1;32m     14\u001b[0m \u001b[0mprint\u001b[0m\u001b[0;34m(\u001b[0m\u001b[0mw_hat\u001b[0m\u001b[0;34m)\u001b[0m\u001b[0;34m\u001b[0m\u001b[0;34m\u001b[0m\u001b[0m\n\u001b[1;32m     15\u001b[0m \u001b[0mprint\u001b[0m\u001b[0;34m(\u001b[0m\u001b[0mw_hat_outlier\u001b[0m\u001b[0;34m)\u001b[0m\u001b[0;34m\u001b[0m\u001b[0;34m\u001b[0m\u001b[0m\n",
      "\u001b[0;32m/usr/local/lib/python3.6/dist-packages/numpy/linalg/linalg.py\u001b[0m in \u001b[0;36minv\u001b[0;34m(a)\u001b[0m\n\u001b[1;32m    520\u001b[0m     \"\"\"\n\u001b[1;32m    521\u001b[0m     \u001b[0ma\u001b[0m\u001b[0;34m,\u001b[0m \u001b[0mwrap\u001b[0m \u001b[0;34m=\u001b[0m \u001b[0m_makearray\u001b[0m\u001b[0;34m(\u001b[0m\u001b[0ma\u001b[0m\u001b[0;34m)\u001b[0m\u001b[0;34m\u001b[0m\u001b[0;34m\u001b[0m\u001b[0m\n\u001b[0;32m--> 522\u001b[0;31m     \u001b[0m_assertRankAtLeast2\u001b[0m\u001b[0;34m(\u001b[0m\u001b[0ma\u001b[0m\u001b[0;34m)\u001b[0m\u001b[0;34m\u001b[0m\u001b[0;34m\u001b[0m\u001b[0m\n\u001b[0m\u001b[1;32m    523\u001b[0m     \u001b[0m_assertNdSquareness\u001b[0m\u001b[0;34m(\u001b[0m\u001b[0ma\u001b[0m\u001b[0;34m)\u001b[0m\u001b[0;34m\u001b[0m\u001b[0;34m\u001b[0m\u001b[0m\n\u001b[1;32m    524\u001b[0m     \u001b[0mt\u001b[0m\u001b[0;34m,\u001b[0m \u001b[0mresult_t\u001b[0m \u001b[0;34m=\u001b[0m \u001b[0m_commonType\u001b[0m\u001b[0;34m(\u001b[0m\u001b[0ma\u001b[0m\u001b[0;34m)\u001b[0m\u001b[0;34m\u001b[0m\u001b[0;34m\u001b[0m\u001b[0m\n",
      "\u001b[0;32m/usr/local/lib/python3.6/dist-packages/numpy/linalg/linalg.py\u001b[0m in \u001b[0;36m_assertRankAtLeast2\u001b[0;34m(*arrays)\u001b[0m\n\u001b[1;32m    199\u001b[0m         \u001b[0;32mif\u001b[0m \u001b[0ma\u001b[0m\u001b[0;34m.\u001b[0m\u001b[0mndim\u001b[0m \u001b[0;34m<\u001b[0m \u001b[0;36m2\u001b[0m\u001b[0;34m:\u001b[0m\u001b[0;34m\u001b[0m\u001b[0;34m\u001b[0m\u001b[0m\n\u001b[1;32m    200\u001b[0m             raise LinAlgError('%d-dimensional array given. Array must be '\n\u001b[0;32m--> 201\u001b[0;31m                     'at least two-dimensional' % a.ndim)\n\u001b[0m\u001b[1;32m    202\u001b[0m \u001b[0;34m\u001b[0m\u001b[0m\n\u001b[1;32m    203\u001b[0m \u001b[0;32mdef\u001b[0m \u001b[0m_assertSquareness\u001b[0m\u001b[0;34m(\u001b[0m\u001b[0;34m*\u001b[0m\u001b[0marrays\u001b[0m\u001b[0;34m)\u001b[0m\u001b[0;34m:\u001b[0m\u001b[0;34m\u001b[0m\u001b[0;34m\u001b[0m\u001b[0m\n",
      "\u001b[0;31mLinAlgError\u001b[0m: 0-dimensional array given. Array must be at least two-dimensional"
     ]
    }
   ],
   "source": [
    "## Data Generation as before plus one outlier [45,12]\n",
    "n = 100\n",
    "white_noise_sd = 2\n",
    "X = np.random.randn(n,1)\n",
    "eps = np.random.randn(n,1)*white_noise_sd\n",
    "w = [1.3]\n",
    "y = 0.5+w*X+eps\n",
    "X = np.append(X,45)\n",
    "y = np.append(y,12)\n",
    "\n",
    "# 1) Apply a least square linear estimator to the new data set\n",
    "print(X.shape)\n",
    "w_hat = (np.dot(np.dot(np.linalg.inv(np.dot(X.T, X)), X.T), y))\n",
    "print(w_hat)\n",
    "print(w_hat_outlier)\n",
    "\n",
    "\n",
    "# 2) Compare estimator for w and visualize the results\n",
    "\n",
    "# 3) Plot the residuals\n",
    "# You can use the seaborn plot residplot (statsmodels package is necessary. Get it via: \"\"sudo pip3 install statsmodels\"\")"
   ]
  },
  {
   "cell_type": "markdown",
   "metadata": {},
   "source": [
    "### Q3.1.3 What do you conclude from this example regarding the estimated weight vector and residuals? \n",
    "\n",
    "### Q3.1.4 Think of possible strategies to avoid this problem."
   ]
  }
 ],
 "metadata": {
  "celltoolbar": "Edit Metadata",
  "kernelspec": {
   "display_name": "Python 3",
   "language": "python",
   "name": "python3"
  },
  "language_info": {
   "codemirror_mode": {
    "name": "ipython",
    "version": 3
   },
   "file_extension": ".py",
   "mimetype": "text/x-python",
   "name": "python",
   "nbconvert_exporter": "python",
   "pygments_lexer": "ipython3",
   "version": "3.6.7"
  }
 },
 "nbformat": 4,
 "nbformat_minor": 1
}
