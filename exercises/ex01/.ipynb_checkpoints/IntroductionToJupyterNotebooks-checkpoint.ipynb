{
 "cells": [
  {
   "cell_type": "markdown",
   "metadata": {},
   "source": [
    "## Jupyter Notebook basics\n",
    "\n",
    "  1. First steps\n",
    "  2. Run Order\n",
    "  3. Python\n",
    "  4. Shell commands\n",
    "  6. Load Python code\n",
    "  7. Plotting\n",
    "  8. Save, Terminate and further remarks"
   ]
  },
  {
   "cell_type": "markdown",
   "metadata": {},
   "source": [
    "1) **First steps**\n",
    "\n",
    "A notebook is organized in cells. There are two main types of cells: \n",
    "\n",
    "  1. code cells (see next cell)\n",
    "  2. markdown cells (see this cell)\n",
    "  \n",
    "To change the type of a cell, select `Cell->Cell Type->Code/Markdown`.\n",
    "\n",
    "Each cell can be run separately and in any order you want. To run a cell you need to activate it by for example clicking on it. A <font color='green'>**green frame** means a cell is editable and active</font>, <font color='blue'>a **blue frame** means a cell is active and/or running</font>. To edit markdown cells you need to double click.\n",
    "\n",
    "There are (at least) two ways to run the active cell.\n",
    "\n",
    "  * Click on `Cell->RunCell` in the menu above\n",
    "  * Press **`CTRL+Enter`** and the marked cell is executed\n",
    "\n",
    "The output of each cell is shown below the cell. The **number next to the cell on the left side** shows in which order the cells were run. \n",
    "\n",
    "`[*]` means that a cell is currently running. You can also verify this with the grey dot in the upper right corner, which shows the state of the Python kernel.\n",
    "\n",
    "*-> Run the next cell as often as you want *"
   ]
  },
  {
   "cell_type": "code",
   "execution_count": 1,
   "metadata": {
    "scrolled": true
   },
   "outputs": [
    {
     "name": "stdout",
     "output_type": "stream",
     "text": [
      "Hello..\n",
      "..World!\n"
     ]
    }
   ],
   "source": [
    "import time\n",
    "print(\"Hello..\",)\n",
    "time.sleep(2)\n",
    "print(\"..World!\")\n"
   ]
  },
  {
   "cell_type": "code",
   "execution_count": null,
   "metadata": {},
   "outputs": [],
   "source": []
  },
  {
   "cell_type": "code",
   "execution_count": null,
   "metadata": {},
   "outputs": [],
   "source": []
  },
  {
   "cell_type": "code",
   "execution_count": null,
   "metadata": {},
   "outputs": [],
   "source": []
  },
  {
   "cell_type": "markdown",
   "metadata": {},
   "source": [
    "Later it might be helpful to use **`ALT+Enter`**. This executes the active cell and creates a new one below.\n",
    "You can delete the active cell with `Edit->Delete Cells`\n",
    "\n",
    "*-> Create and remove some cells *"
   ]
  },
  {
   "cell_type": "code",
   "execution_count": null,
   "metadata": {},
   "outputs": [],
   "source": []
  },
  {
   "cell_type": "code",
   "execution_count": null,
   "metadata": {},
   "outputs": [],
   "source": []
  },
  {
   "cell_type": "code",
   "execution_count": null,
   "metadata": {},
   "outputs": [],
   "source": []
  },
  {
   "cell_type": "markdown",
   "metadata": {},
   "source": [
    "2) **Run Order**\n",
    "\n",
    "You can execute the cells in any order you want an not necessarily from top to bottom. This means\n",
    "the order in which you run a cell affects your variables. Keep this in your mind as this might cause problems during development.\n",
    "\n",
    "**NOTE: In the end your notebook should be executed from top to bottom.**\n",
    "\n",
    "*-> Play around with the next two cells*"
   ]
  },
  {
   "cell_type": "code",
   "execution_count": 4,
   "metadata": {},
   "outputs": [
    {
     "name": "stdout",
     "output_type": "stream",
     "text": [
      "Hello again\n"
     ]
    }
   ],
   "source": [
    "sayHello(a)\n",
    "a = \"there\""
   ]
  },
  {
   "cell_type": "code",
   "execution_count": 3,
   "metadata": {},
   "outputs": [],
   "source": [
    "a = \"again\"\n",
    "def sayHello(a):\n",
    "    print(\"Hello %s\" % a)"
   ]
  },
  {
   "cell_type": "markdown",
   "metadata": {},
   "source": [
    "3) **Python**\n",
    "\n",
    "You can use regular python code and get some help:\n",
    "  * Press **`tab`** and you get code suggestions\n",
    "  * Type `?` (e.g. `numpy.mean?`) and the doctsrings are displayed in separate window\n",
    "  * With `help()` (e.g. `help(numpy)`) the docstring is displayed as output\n",
    "\n",
    "*-> Play around*"
   ]
  },
  {
   "cell_type": "markdown",
   "metadata": {},
   "source": [
    "import numpy\n",
    "numpy.mean?\n"
   ]
  },
  {
   "cell_type": "markdown",
   "metadata": {},
   "source": [
    "4) **Shell commands**\n",
    "\n",
    "You can also use regular shell commands using `'!'` as a prefix (e.g. `!ls`, `!pwd`)\n",
    "\n",
    "-> Write `print(\"Hello World\")` to a file called 'hello.py' (e.g. using `echo TEXT > filename`)"
   ]
  },
  {
   "cell_type": "code",
   "execution_count": 5,
   "metadata": {},
   "outputs": [],
   "source": [
    "!echo 'print(\"Hello World\")' > hello.py"
   ]
  },
  {
   "cell_type": "markdown",
   "metadata": {},
   "source": [
    "6) **Load Python code**\n",
    "\n",
    "You can load a python script to a notebook so you don't have to write the same code each time you start a new tast\n",
    "\n",
    "*-> Execute the next cell twice*"
   ]
  },
  {
   "cell_type": "code",
   "execution_count": 6,
   "metadata": {},
   "outputs": [
    {
     "name": "stdout",
     "output_type": "stream",
     "text": [
      "Hello World\n"
     ]
    }
   ],
   "source": [
    "# %load hello.py\n",
    "print(\"Hello World\")\n"
   ]
  },
  {
   "cell_type": "markdown",
   "metadata": {},
   "source": [
    "7) **Plotting using matplotlib**\n",
    "\n",
    "A big feature of using notebooks is, that you can directly display plots using matplotlib. \n",
    "\n",
    "**NOTE: In order to activate this feature you need to add the following *magic* line to your notebook**\n",
    "\n",
    "*-> Execute the next cells*"
   ]
  },
  {
   "cell_type": "code",
   "execution_count": 7,
   "metadata": {},
   "outputs": [],
   "source": [
    "%matplotlib inline"
   ]
  },
  {
   "cell_type": "markdown",
   "metadata": {},
   "source": [
    "Example:"
   ]
  },
  {
   "cell_type": "code",
   "execution_count": 21,
   "metadata": {
    "scrolled": true
   },
   "outputs": [
    {
     "data": {
      "text/plain": [
       "<matplotlib.collections.PathCollection at 0x7faac07de6d8>"
      ]
     },
     "execution_count": 21,
     "metadata": {},
     "output_type": "execute_result"
    },
    {
     "data": {
      "image/png": "[encoded data removed]",
      "text/plain": [
       "<Figure size 432x288 with 1 Axes>"
      ]
     },
     "metadata": {
      "needs_background": "light"
     },
     "output_type": "display_data"
    }
   ],
   "source": [
    "import matplotlib.pyplot as plt\n",
    "import numpy\n",
    "\n",
    "x = numpy.random.randn(100,1)\n",
    "y = numpy.random.randn(100,1)\n",
    "\n",
    "c = numpy.random.uniform(size = (100,1))\n",
    "plt.scatter(x, y, color=\"black\")"
   ]
  },
  {
   "cell_type": "markdown",
   "metadata": {},
   "source": [
    "8) **Save, Terminate and further Remarks**\n",
    "\n",
    "** Save and terminate **\n",
    "  * From time to time you should save your notebook (the title of this page tells you when you saved the last time).\n",
    "You can also revert the notebook to the last checkpoint.\n",
    " \n",
    "  * To terminate the notebook, you can either choose `File->Close And Halt`, terminate the notebook server in the shell\n",
    "(hitting `CTRL+C` twice) or just close the tab \n",
    "\n",
    "  * In the exercise we will ask you to submit code. You can export this notebook with `File -> Download as -> Python (.py)`. This will you give you a python script with cells from top to bottom (markdown cells will only be comments); this won't work for this notebook since we wanted to demonstrate the issues you'll get when not executing top to bottom.\n",
    "\n",
    "** Notes **\n",
    "  * In case your notebook freezes or stops reacting you can *interrupt* the kernel (`Kernel->interrupt`) and it will stop executing the current cell. If you want to rerun your notebook (clear all output and delete all variables) you can select `Kernel-> Restart and Run All`\n",
    "\n",
    "\n",
    "  * Here is a list for further reading, tips, tutorials and examples for jupyter notebooks:\n",
    "    * Beginners guide:\n",
    "    https://jupyter-notebook-beginner-guide.readthedocs.org/en/latest/what_is_jupyter.html\n",
    "\n",
    "    * Scikit-learn Jupyter documentation: \n",
    "    https://github.com/glouppe/tutorials-scikit-learn/blob/master/1.%20An%20introduction%20to%20Machine%20Learning%20with%20Scikit-Learn.ipynb\n"
   ]
  }
 ],
 "metadata": {
  "celltoolbar": "Raw Cell Format",
  "kernelspec": {
   "display_name": "Python 3",
   "language": "python",
   "name": "python3"
  },
  "language_info": {
   "codemirror_mode": {
    "name": "ipython",
    "version": 3
   },
   "file_extension": ".py",
   "mimetype": "text/x-python",
   "name": "python",
   "nbconvert_exporter": "python",
   "pygments_lexer": "ipython3",
   "version": "3.6.8"
  }
 },
 "nbformat": 4,
 "nbformat_minor": 1
}
